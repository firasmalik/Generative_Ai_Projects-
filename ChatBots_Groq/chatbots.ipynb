{
 "cells": [
  {
   "cell_type": "code",
   "execution_count": 6,
   "metadata": {},
   "outputs": [
    {
     "data": {
      "text/plain": [
       "'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'"
      ]
     },
     "execution_count": 6,
     "metadata": {},
     "output_type": "execute_result"
    }
   ],
   "source": [
    "import os\n",
    "from dotenv import load_dotenv\n",
    "load_dotenv() ## aloading all the environment variable\n",
    "\n",
    "groq_api_key=os.getenv(\"GROQ_API_KEY\")\n",
    "groq_api_key\n"
   ]
  },
  {
   "cell_type": "code",
   "execution_count": 12,
   "metadata": {},
   "outputs": [
    {
     "data": {
      "text/plain": [
       "ChatGroq(client=<groq.resources.chat.completions.Completions object at 0x7eeeb9771f60>, async_client=<groq.resources.chat.completions.AsyncCompletions object at 0x7eeeb97ba170>, model_name='Mixtral-8x7b-32768', groq_api_key=SecretStr('**********'))"
      ]
     },
     "execution_count": 12,
     "metadata": {},
     "output_type": "execute_result"
    }
   ],
   "source": [
    "from langchain_groq import ChatGroq\n",
    "model=ChatGroq(model=\"Mixtral-8x7b-32768\",groq_api_key=groq_api_key)\n",
    "model"
   ]
  },
  {
   "cell_type": "code",
   "execution_count": 13,
   "metadata": {},
   "outputs": [
    {
     "data": {
      "text/plain": [
       "AIMessage(content=\"Hello Krish, it's nice to meet you! As a Chief AI Engineer, you must be working on some exciting projects related to artificial intelligence. AI technology has the potential to transform various industries, and I'm sure you're leveraging its capabilities to drive innovation and create value for your organization. If you have any questions or need assistance with any AI-related topics, feel free to ask. I'm here to help.\", response_metadata={'token_usage': {'completion_tokens': 92, 'prompt_tokens': 25, 'total_tokens': 117, 'completion_time': 0.158095874, 'prompt_time': 0.004640534, 'queue_time': None, 'total_time': 0.162736408}, 'model_name': 'Mixtral-8x7b-32768', 'system_fingerprint': 'fp_c5f20b5bb1', 'finish_reason': 'stop', 'logprobs': None}, id='run-a730833a-a7e4-4e71-bdf2-2f48b32e9048-0', usage_metadata={'input_tokens': 25, 'output_tokens': 92, 'total_tokens': 117})"
      ]
     },
     "execution_count": 13,
     "metadata": {},
     "output_type": "execute_result"
    }
   ],
   "source": [
    "from langchain_core.messages import HumanMessage\n",
    "\n",
    "model.invoke([HumanMessage(content=\"Hi , My name is Krish and I am a Chief AI Engineer\")])"
   ]
  },
  {
   "cell_type": "code",
   "execution_count": 15,
   "metadata": {},
   "outputs": [],
   "source": [
    "response=model.invoke([HumanMessage(content=\"Hi , My name is Krish and I am a Chief AI Engineer\")])"
   ]
  },
  {
   "cell_type": "code",
   "execution_count": 19,
   "metadata": {},
   "outputs": [
    {
     "data": {
      "text/plain": [
       "\"Hello Krish, it's nice to meet you! As a Chief AI Engineer, you must be working on some fascinating projects involving artificial intelligence. AI technology has the potential to revolutionize various industries, and I'm excited to learn more about your experiences and insights in this field. Is there a particular topic or question you would like to discuss regarding AI engineering? I'm here to help!\\n\\nIf you don't have a specific topic in mind, I can share some questions or ideas to get the conversation started:\\n\\n1. What are some of the most exciting AI trends or applications you've encountered recently?\\n2. How do you approach ethical considerations in AI development, and what measures do you take to ensure fairness and transparency?\\n3. What are some of the biggest challenges you face as a Chief AI Engineer, and how do you overcome them?\\n4. Can you share any success stories or lessons learned from AI projects you've led in the past?\\n5. What advice would you give to aspiring AI engineers or data scientists looking to advance their careers?\\n\\nFeel free to pick any of these topics or suggest a different one. I'm looking forward to our discussion!\""
      ]
     },
     "execution_count": 19,
     "metadata": {},
     "output_type": "execute_result"
    }
   ],
   "source": [
    "response.content"
   ]
  },
  {
   "cell_type": "code",
   "execution_count": 20,
   "metadata": {},
   "outputs": [
    {
     "data": {
      "text/plain": [
       "AIMessage(content=\"I apologize for the confusion, Krish. In my previous response, I assumed you were a Chief AI Engineer based on your introduction. If you'd like, we can start by you telling me your name and what you do, and then we can proceed with any questions or topics you'd like to discuss. I'm here to help with any questions or information you need.\", response_metadata={'token_usage': {'completion_tokens': 81, 'prompt_tokens': 302, 'total_tokens': 383, 'completion_time': 0.131840101, 'prompt_time': 0.031236588, 'queue_time': None, 'total_time': 0.163076689}, 'model_name': 'Mixtral-8x7b-32768', 'system_fingerprint': 'fp_c5f20b5bb1', 'finish_reason': 'stop', 'logprobs': None}, id='run-fed089d0-6cc9-4ae0-8f1e-ac768502e58b-0', usage_metadata={'input_tokens': 302, 'output_tokens': 81, 'total_tokens': 383})"
      ]
     },
     "execution_count": 20,
     "metadata": {},
     "output_type": "execute_result"
    }
   ],
   "source": [
    "from langchain_core.messages import AIMessage\n",
    "\n",
    "model.invoke(\n",
    "    [\n",
    "        HumanMessage(content=\"Hi , My name is Krish and I am a Chief AI Engineer\"),\n",
    "        AIMessage(content=\"Hello Krish, it's nice to meet you! As a Chief AI Engineer, you must be working on some fascinating projects involving artificial intelligence. AI technology has the potential to revolutionize various industries, and I'm excited to learn more about your experiences and insights in this field. Is there a particular topic or question you would like to discuss regarding AI engineering? I'm here to help!\\n\\nIf you don't have a specific topic in mind, I can share some questions or ideas to get the conversation started:\\n\\n1. What are some of the most exciting AI trends or applications you've encountered recently?\\n2. How do you approach ethical considerations in AI development, and what measures do you take to ensure fairness and transparency?\\n3. What are some of the biggest challenges you face as a Chief AI Engineer, and how do you overcome them?\\n4. Can you share any success stories or lessons learned from AI projects you've led in the past?\\n5. What advice would you give to aspiring AI engineers or data scientists looking to advance their careers?\\n\\nFeel free to pick any of these topics or suggest a different one. I'm looking forward to our discussion!\"),\n",
    "        HumanMessage(content=\"Hey What's my name and what do I do?\")\n",
    "    ]\n",
    ")"
   ]
  }
 ],
 "metadata": {
  "kernelspec": {
   "display_name": "Python 3",
   "language": "python",
   "name": "python3"
  },
  "language_info": {
   "codemirror_mode": {
    "name": "ipython",
    "version": 3
   },
   "file_extension": ".py",
   "mimetype": "text/x-python",
   "name": "python",
   "nbconvert_exporter": "python",
   "pygments_lexer": "ipython3",
   "version": "3.10.13"
  }
 },
 "nbformat": 4,
 "nbformat_minor": 2
}
