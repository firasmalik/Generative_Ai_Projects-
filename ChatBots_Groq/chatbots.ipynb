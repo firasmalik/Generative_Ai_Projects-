{
 "cells": [
  {
   "cell_type": "code",
   "execution_count": 6,
   "metadata": {},
   "outputs": [
    {
     "data": {
      "text/plain": [
       "'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'"
      ]
     },
     "execution_count": 6,
     "metadata": {},
     "output_type": "execute_result"
    }
   ],
   "source": [
    "import os\n",
    "from dotenv import load_dotenv\n",
    "load_dotenv() ## aloading all the environment variable\n",
    "\n",
    "groq_api_key=os.getenv(\"GROQ_API_KEY\")\n",
    "groq_api_key\n"
   ]
  },
  {
   "cell_type": "code",
   "execution_count": 12,
   "metadata": {},
   "outputs": [
    {
     "data": {
      "text/plain": [
       "ChatGroq(client=<groq.resources.chat.completions.Completions object at 0x7eeeb9771f60>, async_client=<groq.resources.chat.completions.AsyncCompletions object at 0x7eeeb97ba170>, model_name='Mixtral-8x7b-32768', groq_api_key=SecretStr('**********'))"
      ]
     },
     "execution_count": 12,
     "metadata": {},
     "output_type": "execute_result"
    }
   ],
   "source": [
    "from langchain_groq import ChatGroq\n",
    "model=ChatGroq(model=\"Mixtral-8x7b-32768\",groq_api_key=groq_api_key)\n",
    "model"
   ]
  },
  {
   "cell_type": "code",
   "execution_count": 13,
   "metadata": {},
   "outputs": [
    {
     "data": {
      "text/plain": [
       "AIMessage(content=\"Hello Krish, it's nice to meet you! As a Chief AI Engineer, you must be working on some exciting projects related to artificial intelligence. AI technology has the potential to transform various industries, and I'm sure you're leveraging its capabilities to drive innovation and create value for your organization. If you have any questions or need assistance with any AI-related topics, feel free to ask. I'm here to help.\", response_metadata={'token_usage': {'completion_tokens': 92, 'prompt_tokens': 25, 'total_tokens': 117, 'completion_time': 0.158095874, 'prompt_time': 0.004640534, 'queue_time': None, 'total_time': 0.162736408}, 'model_name': 'Mixtral-8x7b-32768', 'system_fingerprint': 'fp_c5f20b5bb1', 'finish_reason': 'stop', 'logprobs': None}, id='run-a730833a-a7e4-4e71-bdf2-2f48b32e9048-0', usage_metadata={'input_tokens': 25, 'output_tokens': 92, 'total_tokens': 117})"
      ]
     },
     "execution_count": 13,
     "metadata": {},
     "output_type": "execute_result"
    }
   ],
   "source": [
    "from langchain_core.messages import HumanMessage\n",
    "\n",
    "model.invoke([HumanMessage(content=\"Hi , My name is Krish and I am a Chief AI Engineer\")])"
   ]
  },
  {
   "cell_type": "code",
   "execution_count": 11,
   "metadata": {},
   "outputs": [
    {
     "data": {
      "text/plain": [
       "AIMessage(content=\"You said your name is Krish and that you are a Chief AI Engineer.  \\n\\nIs there anything else you'd like me to remember about you? 😊  \\n\", response_metadata={'token_usage': {'completion_tokens': 36, 'prompt_tokens': 102, 'total_tokens': 138, 'completion_time': 0.072604434, 'prompt_time': 0.016793958, 'queue_time': None, 'total_time': 0.089398392}, 'model_name': 'Gemma2-9b-It', 'system_fingerprint': 'fp_10c08bf97d', 'finish_reason': 'stop', 'logprobs': None}, id='run-822c70e4-ee04-49b4-a120-d69a89c816f2-0', usage_metadata={'input_tokens': 102, 'output_tokens': 36, 'total_tokens': 138})"
      ]
     },
     "execution_count": 11,
     "metadata": {},
     "output_type": "execute_result"
    }
   ],
   "source": [
    "from langchain_core.messages import AIMessage\n",
    "model.invoke(\n",
    "    [\n",
    "        HumanMessage(content=\"Hi , My name is Krish and I am a Chief AI Engineer\"),\n",
    "        AIMessage(content=\"Hello Krish! It's nice to meet you. \\n\\nAs a Chief AI Engineer, what kind of projects are you working on these days? \\n\\nI'm always eager to learn more about the exciting work being done in the field of AI.\\n\"),\n",
    "        HumanMessage(content=\"Hey What's my name and what do I do?\")\n",
    "    ]\n",
    ")"
   ]
  },
  {
   "cell_type": "code",
   "execution_count": null,
   "metadata": {},
   "outputs": [],
   "source": []
  },
  {
   "cell_type": "code",
   "execution_count": null,
   "metadata": {},
   "outputs": [],
   "source": []
  }
 ],
 "metadata": {
  "kernelspec": {
   "display_name": "Python 3",
   "language": "python",
   "name": "python3"
  },
  "language_info": {
   "codemirror_mode": {
    "name": "ipython",
    "version": 3
   },
   "file_extension": ".py",
   "mimetype": "text/x-python",
   "name": "python",
   "nbconvert_exporter": "python",
   "pygments_lexer": "ipython3",
   "version": "3.10.13"
  }
 },
 "nbformat": 4,
 "nbformat_minor": 2
}
