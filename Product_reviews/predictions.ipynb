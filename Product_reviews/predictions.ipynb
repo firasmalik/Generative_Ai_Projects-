{
 "cells": [
  {
   "cell_type": "code",
   "execution_count": 8,
   "metadata": {},
   "outputs": [],
   "source": [
    "# Step 1: Import Libraries and Load the Model\n",
    "import numpy as np\n",
    "import tensorflow as tf\n",
    "from tensorflow.keras.datasets import imdb\n",
    "from tensorflow.keras.preprocessing import sequence\n",
    "from tensorflow.keras.models import load_model"
   ]
  },
  {
   "cell_type": "code",
   "execution_count": 9,
   "metadata": {},
   "outputs": [],
   "source": [
    "\n",
    "# Load the IMDB dataset word index\n",
    "word_index = imdb.get_word_index()\n",
    "reverse_word_index = {value: key for key, value in word_index.items()}"
   ]
  },
  {
   "cell_type": "code",
   "execution_count": 11,
   "metadata": {},
   "outputs": [
    {
     "name": "stderr",
     "output_type": "stream",
     "text": [
      "WARNING:absl:Compiled the loaded model, but the compiled metrics have yet to be built. `model.compile_metrics` will be empty until you train or evaluate the model.\n"
     ]
    },
    {
     "data": {
      "text/html": [
       "<pre style=\"white-space:pre;overflow-x:auto;line-height:normal;font-family:Menlo,'DejaVu Sans Mono',consolas,'Courier New',monospace\"><span style=\"font-weight: bold\">Model: \"sequential_2\"</span>\n",
       "</pre>\n"
      ],
      "text/plain": [
       "\u001b[1mModel: \"sequential_2\"\u001b[0m\n"
      ]
     },
     "metadata": {},
     "output_type": "display_data"
    },
    {
     "data": {
      "text/html": [
       "<pre style=\"white-space:pre;overflow-x:auto;line-height:normal;font-family:Menlo,'DejaVu Sans Mono',consolas,'Courier New',monospace\">┏━━━━━━━━━━━━━━━━━━━━━━━━━━━━━━━━━┳━━━━━━━━━━━━━━━━━━━━━━━━┳━━━━━━━━━━━━━━━┓\n",
       "┃<span style=\"font-weight: bold\"> Layer (type)                    </span>┃<span style=\"font-weight: bold\"> Output Shape           </span>┃<span style=\"font-weight: bold\">       Param # </span>┃\n",
       "┡━━━━━━━━━━━━━━━━━━━━━━━━━━━━━━━━━╇━━━━━━━━━━━━━━━━━━━━━━━━╇━━━━━━━━━━━━━━━┩\n",
       "│ embedding_2 (<span style=\"color: #0087ff; text-decoration-color: #0087ff\">Embedding</span>)         │ (<span style=\"color: #00af00; text-decoration-color: #00af00\">32</span>, <span style=\"color: #00af00; text-decoration-color: #00af00\">500</span>, <span style=\"color: #00af00; text-decoration-color: #00af00\">128</span>)         │     <span style=\"color: #00af00; text-decoration-color: #00af00\">1,280,000</span> │\n",
       "├─────────────────────────────────┼────────────────────────┼───────────────┤\n",
       "│ simple_rnn_2 (<span style=\"color: #0087ff; text-decoration-color: #0087ff\">SimpleRNN</span>)        │ (<span style=\"color: #00af00; text-decoration-color: #00af00\">32</span>, <span style=\"color: #00af00; text-decoration-color: #00af00\">128</span>)              │        <span style=\"color: #00af00; text-decoration-color: #00af00\">32,896</span> │\n",
       "├─────────────────────────────────┼────────────────────────┼───────────────┤\n",
       "│ dense_1 (<span style=\"color: #0087ff; text-decoration-color: #0087ff\">Dense</span>)                 │ (<span style=\"color: #00af00; text-decoration-color: #00af00\">32</span>, <span style=\"color: #00af00; text-decoration-color: #00af00\">1</span>)                │           <span style=\"color: #00af00; text-decoration-color: #00af00\">129</span> │\n",
       "└─────────────────────────────────┴────────────────────────┴───────────────┘\n",
       "</pre>\n"
      ],
      "text/plain": [
       "┏━━━━━━━━━━━━━━━━━━━━━━━━━━━━━━━━━┳━━━━━━━━━━━━━━━━━━━━━━━━┳━━━━━━━━━━━━━━━┓\n",
       "┃\u001b[1m \u001b[0m\u001b[1mLayer (type)                   \u001b[0m\u001b[1m \u001b[0m┃\u001b[1m \u001b[0m\u001b[1mOutput Shape          \u001b[0m\u001b[1m \u001b[0m┃\u001b[1m \u001b[0m\u001b[1m      Param #\u001b[0m\u001b[1m \u001b[0m┃\n",
       "┡━━━━━━━━━━━━━━━━━━━━━━━━━━━━━━━━━╇━━━━━━━━━━━━━━━━━━━━━━━━╇━━━━━━━━━━━━━━━┩\n",
       "│ embedding_2 (\u001b[38;5;33mEmbedding\u001b[0m)         │ (\u001b[38;5;34m32\u001b[0m, \u001b[38;5;34m500\u001b[0m, \u001b[38;5;34m128\u001b[0m)         │     \u001b[38;5;34m1,280,000\u001b[0m │\n",
       "├─────────────────────────────────┼────────────────────────┼───────────────┤\n",
       "│ simple_rnn_2 (\u001b[38;5;33mSimpleRNN\u001b[0m)        │ (\u001b[38;5;34m32\u001b[0m, \u001b[38;5;34m128\u001b[0m)              │        \u001b[38;5;34m32,896\u001b[0m │\n",
       "├─────────────────────────────────┼────────────────────────┼───────────────┤\n",
       "│ dense_1 (\u001b[38;5;33mDense\u001b[0m)                 │ (\u001b[38;5;34m32\u001b[0m, \u001b[38;5;34m1\u001b[0m)                │           \u001b[38;5;34m129\u001b[0m │\n",
       "└─────────────────────────────────┴────────────────────────┴───────────────┘\n"
      ]
     },
     "metadata": {},
     "output_type": "display_data"
    },
    {
     "data": {
      "text/html": [
       "<pre style=\"white-space:pre;overflow-x:auto;line-height:normal;font-family:Menlo,'DejaVu Sans Mono',consolas,'Courier New',monospace\"><span style=\"font-weight: bold\"> Total params: </span><span style=\"color: #00af00; text-decoration-color: #00af00\">1,313,027</span> (5.01 MB)\n",
       "</pre>\n"
      ],
      "text/plain": [
       "\u001b[1m Total params: \u001b[0m\u001b[38;5;34m1,313,027\u001b[0m (5.01 MB)\n"
      ]
     },
     "metadata": {},
     "output_type": "display_data"
    },
    {
     "data": {
      "text/html": [
       "<pre style=\"white-space:pre;overflow-x:auto;line-height:normal;font-family:Menlo,'DejaVu Sans Mono',consolas,'Courier New',monospace\"><span style=\"font-weight: bold\"> Trainable params: </span><span style=\"color: #00af00; text-decoration-color: #00af00\">1,313,025</span> (5.01 MB)\n",
       "</pre>\n"
      ],
      "text/plain": [
       "\u001b[1m Trainable params: \u001b[0m\u001b[38;5;34m1,313,025\u001b[0m (5.01 MB)\n"
      ]
     },
     "metadata": {},
     "output_type": "display_data"
    },
    {
     "data": {
      "text/html": [
       "<pre style=\"white-space:pre;overflow-x:auto;line-height:normal;font-family:Menlo,'DejaVu Sans Mono',consolas,'Courier New',monospace\"><span style=\"font-weight: bold\"> Non-trainable params: </span><span style=\"color: #00af00; text-decoration-color: #00af00\">0</span> (0.00 B)\n",
       "</pre>\n"
      ],
      "text/plain": [
       "\u001b[1m Non-trainable params: \u001b[0m\u001b[38;5;34m0\u001b[0m (0.00 B)\n"
      ]
     },
     "metadata": {},
     "output_type": "display_data"
    },
    {
     "data": {
      "text/html": [
       "<pre style=\"white-space:pre;overflow-x:auto;line-height:normal;font-family:Menlo,'DejaVu Sans Mono',consolas,'Courier New',monospace\"><span style=\"font-weight: bold\"> Optimizer params: </span><span style=\"color: #00af00; text-decoration-color: #00af00\">2</span> (12.00 B)\n",
       "</pre>\n"
      ],
      "text/plain": [
       "\u001b[1m Optimizer params: \u001b[0m\u001b[38;5;34m2\u001b[0m (12.00 B)\n"
      ]
     },
     "metadata": {},
     "output_type": "display_data"
    }
   ],
   "source": [
    "# Load the pre-trained model with ReLU activation\n",
    "model = load_model('simple_rnn_imdb.h5')\n",
    "model.summary()"
   ]
  },
  {
   "cell_type": "code",
   "execution_count": 12,
   "metadata": {},
   "outputs": [
    {
     "data": {
      "text/html": [
       "<pre style=\"white-space:pre;overflow-x:auto;line-height:normal;font-family:Menlo,'DejaVu Sans Mono',consolas,'Courier New',monospace\"><span style=\"font-weight: bold\">Model: \"sequential_2\"</span>\n",
       "</pre>\n"
      ],
      "text/plain": [
       "\u001b[1mModel: \"sequential_2\"\u001b[0m\n"
      ]
     },
     "metadata": {},
     "output_type": "display_data"
    },
    {
     "data": {
      "text/html": [
       "<pre style=\"white-space:pre;overflow-x:auto;line-height:normal;font-family:Menlo,'DejaVu Sans Mono',consolas,'Courier New',monospace\">┏━━━━━━━━━━━━━━━━━━━━━━━━━━━━━━━━━┳━━━━━━━━━━━━━━━━━━━━━━━━┳━━━━━━━━━━━━━━━┓\n",
       "┃<span style=\"font-weight: bold\"> Layer (type)                    </span>┃<span style=\"font-weight: bold\"> Output Shape           </span>┃<span style=\"font-weight: bold\">       Param # </span>┃\n",
       "┡━━━━━━━━━━━━━━━━━━━━━━━━━━━━━━━━━╇━━━━━━━━━━━━━━━━━━━━━━━━╇━━━━━━━━━━━━━━━┩\n",
       "│ embedding_2 (<span style=\"color: #0087ff; text-decoration-color: #0087ff\">Embedding</span>)         │ (<span style=\"color: #00af00; text-decoration-color: #00af00\">32</span>, <span style=\"color: #00af00; text-decoration-color: #00af00\">500</span>, <span style=\"color: #00af00; text-decoration-color: #00af00\">128</span>)         │     <span style=\"color: #00af00; text-decoration-color: #00af00\">1,280,000</span> │\n",
       "├─────────────────────────────────┼────────────────────────┼───────────────┤\n",
       "│ simple_rnn_2 (<span style=\"color: #0087ff; text-decoration-color: #0087ff\">SimpleRNN</span>)        │ (<span style=\"color: #00af00; text-decoration-color: #00af00\">32</span>, <span style=\"color: #00af00; text-decoration-color: #00af00\">128</span>)              │        <span style=\"color: #00af00; text-decoration-color: #00af00\">32,896</span> │\n",
       "├─────────────────────────────────┼────────────────────────┼───────────────┤\n",
       "│ dense_1 (<span style=\"color: #0087ff; text-decoration-color: #0087ff\">Dense</span>)                 │ (<span style=\"color: #00af00; text-decoration-color: #00af00\">32</span>, <span style=\"color: #00af00; text-decoration-color: #00af00\">1</span>)                │           <span style=\"color: #00af00; text-decoration-color: #00af00\">129</span> │\n",
       "└─────────────────────────────────┴────────────────────────┴───────────────┘\n",
       "</pre>\n"
      ],
      "text/plain": [
       "┏━━━━━━━━━━━━━━━━━━━━━━━━━━━━━━━━━┳━━━━━━━━━━━━━━━━━━━━━━━━┳━━━━━━━━━━━━━━━┓\n",
       "┃\u001b[1m \u001b[0m\u001b[1mLayer (type)                   \u001b[0m\u001b[1m \u001b[0m┃\u001b[1m \u001b[0m\u001b[1mOutput Shape          \u001b[0m\u001b[1m \u001b[0m┃\u001b[1m \u001b[0m\u001b[1m      Param #\u001b[0m\u001b[1m \u001b[0m┃\n",
       "┡━━━━━━━━━━━━━━━━━━━━━━━━━━━━━━━━━╇━━━━━━━━━━━━━━━━━━━━━━━━╇━━━━━━━━━━━━━━━┩\n",
       "│ embedding_2 (\u001b[38;5;33mEmbedding\u001b[0m)         │ (\u001b[38;5;34m32\u001b[0m, \u001b[38;5;34m500\u001b[0m, \u001b[38;5;34m128\u001b[0m)         │     \u001b[38;5;34m1,280,000\u001b[0m │\n",
       "├─────────────────────────────────┼────────────────────────┼───────────────┤\n",
       "│ simple_rnn_2 (\u001b[38;5;33mSimpleRNN\u001b[0m)        │ (\u001b[38;5;34m32\u001b[0m, \u001b[38;5;34m128\u001b[0m)              │        \u001b[38;5;34m32,896\u001b[0m │\n",
       "├─────────────────────────────────┼────────────────────────┼───────────────┤\n",
       "│ dense_1 (\u001b[38;5;33mDense\u001b[0m)                 │ (\u001b[38;5;34m32\u001b[0m, \u001b[38;5;34m1\u001b[0m)                │           \u001b[38;5;34m129\u001b[0m │\n",
       "└─────────────────────────────────┴────────────────────────┴───────────────┘\n"
      ]
     },
     "metadata": {},
     "output_type": "display_data"
    },
    {
     "data": {
      "text/html": [
       "<pre style=\"white-space:pre;overflow-x:auto;line-height:normal;font-family:Menlo,'DejaVu Sans Mono',consolas,'Courier New',monospace\"><span style=\"font-weight: bold\"> Total params: </span><span style=\"color: #00af00; text-decoration-color: #00af00\">1,313,027</span> (5.01 MB)\n",
       "</pre>\n"
      ],
      "text/plain": [
       "\u001b[1m Total params: \u001b[0m\u001b[38;5;34m1,313,027\u001b[0m (5.01 MB)\n"
      ]
     },
     "metadata": {},
     "output_type": "display_data"
    },
    {
     "data": {
      "text/html": [
       "<pre style=\"white-space:pre;overflow-x:auto;line-height:normal;font-family:Menlo,'DejaVu Sans Mono',consolas,'Courier New',monospace\"><span style=\"font-weight: bold\"> Trainable params: </span><span style=\"color: #00af00; text-decoration-color: #00af00\">1,313,025</span> (5.01 MB)\n",
       "</pre>\n"
      ],
      "text/plain": [
       "\u001b[1m Trainable params: \u001b[0m\u001b[38;5;34m1,313,025\u001b[0m (5.01 MB)\n"
      ]
     },
     "metadata": {},
     "output_type": "display_data"
    },
    {
     "data": {
      "text/html": [
       "<pre style=\"white-space:pre;overflow-x:auto;line-height:normal;font-family:Menlo,'DejaVu Sans Mono',consolas,'Courier New',monospace\"><span style=\"font-weight: bold\"> Non-trainable params: </span><span style=\"color: #00af00; text-decoration-color: #00af00\">0</span> (0.00 B)\n",
       "</pre>\n"
      ],
      "text/plain": [
       "\u001b[1m Non-trainable params: \u001b[0m\u001b[38;5;34m0\u001b[0m (0.00 B)\n"
      ]
     },
     "metadata": {},
     "output_type": "display_data"
    },
    {
     "data": {
      "text/html": [
       "<pre style=\"white-space:pre;overflow-x:auto;line-height:normal;font-family:Menlo,'DejaVu Sans Mono',consolas,'Courier New',monospace\"><span style=\"font-weight: bold\"> Optimizer params: </span><span style=\"color: #00af00; text-decoration-color: #00af00\">2</span> (12.00 B)\n",
       "</pre>\n"
      ],
      "text/plain": [
       "\u001b[1m Optimizer params: \u001b[0m\u001b[38;5;34m2\u001b[0m (12.00 B)\n"
      ]
     },
     "metadata": {},
     "output_type": "display_data"
    }
   ],
   "source": [
    "model.summary()"
   ]
  },
  {
   "cell_type": "code",
   "execution_count": 14,
   "metadata": {},
   "outputs": [
    {
     "data": {
      "text/plain": [
       "[array([[ 0.09470243,  0.06565954, -0.14234668, ..., -0.15570533,\n",
       "          0.02953281,  0.22528593],\n",
       "        [ 0.01188061,  0.02312102,  0.01063945, ...,  0.02411265,\n",
       "          0.05928079, -0.0272284 ],\n",
       "        [-0.03284857,  0.16539583,  0.05667795, ..., -0.16062067,\n",
       "          0.05326822,  0.19149543],\n",
       "        ...,\n",
       "        [ 0.01923241,  0.02147236,  0.05145057, ..., -0.03595405,\n",
       "          0.0152662 ,  0.00292947],\n",
       "        [-0.08288857, -0.06666306, -0.00131426, ...,  0.06940705,\n",
       "         -0.09978966, -0.01757259],\n",
       "        [-0.02230896, -0.00033827,  0.00470723, ..., -0.07715642,\n",
       "          0.0337556 ,  0.03109534]], dtype=float32),\n",
       " array([[-0.0466788 , -0.08330182, -0.05003503, ..., -0.11331306,\n",
       "          0.07518483, -0.00750276],\n",
       "        [-0.13038543, -0.23283555, -0.15473421, ..., -0.10016608,\n",
       "         -0.0905484 , -0.10782074],\n",
       "        [ 0.03881409,  0.04536017,  0.04778602, ...,  0.09834639,\n",
       "          0.02279543, -0.0774961 ],\n",
       "        ...,\n",
       "        [-0.07898407,  0.11619898, -0.04321771, ..., -0.11510605,\n",
       "         -0.04992764, -0.07467324],\n",
       "        [-0.04370087, -0.07515875,  0.1179871 , ..., -0.08756369,\n",
       "         -0.12905641, -0.12608884],\n",
       "        [-0.12613805, -0.17502025,  0.05715472, ..., -0.19403762,\n",
       "         -0.13940325, -0.03391618]], dtype=float32),\n",
       " array([[-0.04186797,  0.17281854, -0.0633165 , ...,  0.11016139,\n",
       "          0.35623336, -0.09742173],\n",
       "        [-0.03646066, -0.12571672, -0.05259629, ...,  0.26220277,\n",
       "          0.41539475, -0.03533087],\n",
       "        [-0.09966399, -0.11080733, -0.00153828, ...,  0.11854582,\n",
       "          0.01498018,  0.00319796],\n",
       "        ...,\n",
       "        [ 0.1116496 ,  0.01114124, -0.07729559, ..., -0.05841291,\n",
       "          0.00781329,  0.08084044],\n",
       "        [-0.04775473,  0.5429567 ,  0.08065648, ..., -0.05984252,\n",
       "         -0.15158606, -0.10847878],\n",
       "        [ 0.04987348,  0.20306765, -0.12206277, ...,  0.10406401,\n",
       "         -0.06456653,  0.12069108]], dtype=float32),\n",
       " array([ 0.01930078, -0.04214247, -0.01533777, -0.01124923, -0.0336531 ,\n",
       "        -0.02731386, -0.03884282, -0.06742617,  0.00568617, -0.03087722,\n",
       "        -0.0389571 , -0.04655944,  0.01455866,  0.00599422,  0.00240753,\n",
       "        -0.02870609,  0.03265822, -0.00358955, -0.01151435,  0.00383353,\n",
       "        -0.0344617 , -0.00435659, -0.02268897, -0.03292526, -0.01086621,\n",
       "        -0.07935677,  0.00750428, -0.02522663,  0.03196843, -0.02161424,\n",
       "         0.03470416, -0.03858469, -0.0570176 , -0.02309541, -0.06900618,\n",
       "         0.03534744,  0.05008821,  0.00029477, -0.04268515, -0.00240756,\n",
       "        -0.06144853, -0.00374078, -0.05154807, -0.01169865,  0.00122295,\n",
       "         0.06016196, -0.06283423, -0.05819261, -0.00732926, -0.00104659,\n",
       "        -0.05163164, -0.02476438, -0.02251378, -0.07532626, -0.02096781,\n",
       "        -0.04960946, -0.01239481,  0.01519248, -0.05450653,  0.01102512,\n",
       "        -0.05485365, -0.01441169, -0.01450879, -0.01384756,  0.04713774,\n",
       "        -0.03781897, -0.03243967, -0.05018166, -0.05417331, -0.00495704,\n",
       "        -0.0228739 , -0.01177175, -0.01268704,  0.00808924,  0.00368008,\n",
       "        -0.04463983,  0.00529131,  0.00552551, -0.00993686, -0.02829261,\n",
       "        -0.04404117, -0.01313369, -0.02889277, -0.05277707,  0.01923045,\n",
       "        -0.02170179, -0.01735416, -0.02077702,  0.00111262, -0.01552559,\n",
       "        -0.01333394, -0.01130221, -0.00771227, -0.04933983, -0.04109418,\n",
       "        -0.03096262, -0.02891397, -0.07959409, -0.03832166,  0.01807118,\n",
       "         0.04232823, -0.0468578 ,  0.00914048, -0.00913915, -0.01222021,\n",
       "        -0.01649569, -0.01246947,  0.00744924, -0.02085189, -0.02229041,\n",
       "        -0.02261038,  0.01961982, -0.00070268, -0.02382279,  0.00937799,\n",
       "        -0.07088078, -0.00238455, -0.02737614,  0.01198276, -0.0387144 ,\n",
       "         0.01275495, -0.04620885, -0.0797765 , -0.04112983,  0.04059962,\n",
       "        -0.09435382, -0.01938968, -0.01508541], dtype=float32),\n",
       " array([[-0.23709494],\n",
       "        [-0.212141  ],\n",
       "        [-0.04384485],\n",
       "        [ 0.14174317],\n",
       "        [-0.19449039],\n",
       "        [-0.22033969],\n",
       "        [-0.03745703],\n",
       "        [-0.01932357],\n",
       "        [-0.10649312],\n",
       "        [-0.15532503],\n",
       "        [-0.6117429 ],\n",
       "        [-0.41482309],\n",
       "        [-0.20760034],\n",
       "        [ 0.1678157 ],\n",
       "        [ 0.18813251],\n",
       "        [ 0.05839365],\n",
       "        [ 0.32905054],\n",
       "        [ 0.16410924],\n",
       "        [ 0.09481473],\n",
       "        [-0.24953127],\n",
       "        [-0.12197571],\n",
       "        [ 0.19498853],\n",
       "        [ 0.7375509 ],\n",
       "        [ 0.68757737],\n",
       "        [ 0.19235285],\n",
       "        [ 0.29403812],\n",
       "        [-0.05658149],\n",
       "        [ 0.41329685],\n",
       "        [-0.16562085],\n",
       "        [-0.29673898],\n",
       "        [-0.03818003],\n",
       "        [ 0.09203759],\n",
       "        [ 0.4798524 ],\n",
       "        [ 0.05528798],\n",
       "        [-0.0780855 ],\n",
       "        [ 0.04268759],\n",
       "        [-0.26182014],\n",
       "        [ 0.14993231],\n",
       "        [-0.10318613],\n",
       "        [-0.05741303],\n",
       "        [ 0.18608361],\n",
       "        [ 0.11651006],\n",
       "        [-0.27155212],\n",
       "        [ 0.06668583],\n",
       "        [ 0.11827502],\n",
       "        [ 0.01672143],\n",
       "        [ 0.24641946],\n",
       "        [-0.16205108],\n",
       "        [-0.00810886],\n",
       "        [ 0.1526887 ],\n",
       "        [-0.60899216],\n",
       "        [-0.21954712],\n",
       "        [-0.02685534],\n",
       "        [-0.09346091],\n",
       "        [ 0.06314383],\n",
       "        [-0.1206113 ],\n",
       "        [ 0.2215585 ],\n",
       "        [ 0.10886864],\n",
       "        [-0.01303433],\n",
       "        [ 0.14591251],\n",
       "        [ 0.05651097],\n",
       "        [ 0.01879607],\n",
       "        [ 0.22950555],\n",
       "        [ 0.12994938],\n",
       "        [-0.09467288],\n",
       "        [-0.03458445],\n",
       "        [ 0.25822684],\n",
       "        [ 0.03963952],\n",
       "        [ 0.03404508],\n",
       "        [ 0.22842544],\n",
       "        [ 0.24461327],\n",
       "        [-0.35798907],\n",
       "        [-0.13127665],\n",
       "        [-0.29933506],\n",
       "        [-0.15563022],\n",
       "        [-0.14417937],\n",
       "        [ 0.01600815],\n",
       "        [-0.23134531],\n",
       "        [-0.01485312],\n",
       "        [-0.08530772],\n",
       "        [-0.20874615],\n",
       "        [ 0.65477103],\n",
       "        [-0.07018346],\n",
       "        [ 0.12995015],\n",
       "        [-0.17554824],\n",
       "        [ 0.41749066],\n",
       "        [-0.18863067],\n",
       "        [-0.19239889],\n",
       "        [-0.00461914],\n",
       "        [ 0.21207944],\n",
       "        [-0.19606577],\n",
       "        [ 0.17814153],\n",
       "        [ 0.09872031],\n",
       "        [-0.1094749 ],\n",
       "        [-0.01081724],\n",
       "        [-0.20272872],\n",
       "        [-0.06515813],\n",
       "        [-0.04441025],\n",
       "        [ 0.08258112],\n",
       "        [ 0.19910854],\n",
       "        [ 0.1051561 ],\n",
       "        [-0.10980903],\n",
       "        [ 0.0540255 ],\n",
       "        [-0.05615628],\n",
       "        [-0.00701748],\n",
       "        [ 0.22495593],\n",
       "        [ 0.1868992 ],\n",
       "        [ 0.26750603],\n",
       "        [-0.21254094],\n",
       "        [ 0.07803622],\n",
       "        [ 0.15818286],\n",
       "        [-0.02204369],\n",
       "        [-0.2942501 ],\n",
       "        [ 0.07932469],\n",
       "        [-0.20780239],\n",
       "        [-0.23894748],\n",
       "        [-0.02957362],\n",
       "        [-0.13790753],\n",
       "        [-0.32794514],\n",
       "        [ 0.37665316],\n",
       "        [-0.30960438],\n",
       "        [ 0.14420715],\n",
       "        [-0.0341268 ],\n",
       "        [ 0.12532741],\n",
       "        [-0.19261535],\n",
       "        [-0.02182453],\n",
       "        [ 0.26381454],\n",
       "        [-0.21917275]], dtype=float32),\n",
       " array([-0.38225538], dtype=float32)]"
      ]
     },
     "execution_count": 14,
     "metadata": {},
     "output_type": "execute_result"
    }
   ],
   "source": [
    "model.get_weights()"
   ]
  },
  {
   "cell_type": "code",
   "execution_count": 15,
   "metadata": {},
   "outputs": [
    {
     "ename": "SyntaxError",
     "evalue": "invalid syntax (3384156450.py, line 4)",
     "output_type": "error",
     "traceback": [
      "\u001b[0;36m  Cell \u001b[0;32mIn[15], line 4\u001b[0;36m\u001b[0m\n\u001b[0;31m    return ''.join([reverse_word_index.get(i-3,'?', for i in encoded_review)])\u001b[0m\n\u001b[0m                                                    ^\u001b[0m\n\u001b[0;31mSyntaxError\u001b[0m\u001b[0;31m:\u001b[0m invalid syntax\n"
     ]
    }
   ],
   "source": [
    "#function to decode reviews\n",
    "\n",
    "def decode_review(encode_review):\n",
    "    return ''.join([reverse_word_index.get(i-3,'?', for i in encoded_review)])"
   ]
  },
  {
   "cell_type": "code",
   "execution_count": 16,
   "metadata": {},
   "outputs": [],
   "source": [
    "# Step 2: Helper Functions\n",
    "# Function to decode reviews\n",
    "def decode_review(encoded_review):\n",
    "    return ' '.join([reverse_word_index.get(i - 3, '?') for i in encoded_review])\n",
    "\n",
    "# Function to preprocess user input\n",
    "def preprocess_text(text):\n",
    "    words = text.lower().split()\n",
    "    encoded_review = [word_index.get(word, 2) + 3 for word in words]\n",
    "    padded_review = sequence.pad_sequences([encoded_review], maxlen=500)\n",
    "    return padded_review"
   ]
  },
  {
   "cell_type": "code",
   "execution_count": 17,
   "metadata": {},
   "outputs": [],
   "source": [
    "### Prediction  function\n",
    "\n",
    "def predict_sentiment(review):\n",
    "    preprocessed_input=preprocess_text(review)\n",
    "\n",
    "    prediction=model.predict(preprocessed_input)\n",
    "\n",
    "    sentiment = 'Positive' if prediction[0][0] > 0.5 else 'Negative'\n",
    "    \n",
    "    return sentiment, prediction[0][0]\n",
    "\n"
   ]
  },
  {
   "cell_type": "code",
   "execution_count": 19,
   "metadata": {},
   "outputs": [
    {
     "name": "stdout",
     "output_type": "stream",
     "text": [
      "\u001b[1m1/1\u001b[0m \u001b[32m━━━━━━━━━━━━━━━━━━━━\u001b[0m\u001b[37m\u001b[0m \u001b[1m0s\u001b[0m 22ms/step\n",
      "Review: This movie was fantastic! \n",
      "Sentiment: Negative\n",
      "Prediction Score: 0.3093763291835785\n"
     ]
    }
   ],
   "source": [
    "# Step 4: User Input and Prediction\n",
    "# Example review for prediction\n",
    "example_review = \"This movie was fantastic! \"\n",
    "\n",
    "sentiment,score=predict_sentiment(example_review)\n",
    "\n",
    "print(f'Review: {example_review}')\n",
    "print(f'Sentiment: {sentiment}')\n",
    "print(f'Prediction Score: {score}')"
   ]
  },
  {
   "cell_type": "code",
   "execution_count": null,
   "metadata": {},
   "outputs": [],
   "source": []
  }
 ],
 "metadata": {
  "kernelspec": {
   "display_name": "Python 3",
   "language": "python",
   "name": "python3"
  },
  "language_info": {
   "codemirror_mode": {
    "name": "ipython",
    "version": 3
   },
   "file_extension": ".py",
   "mimetype": "text/x-python",
   "name": "python",
   "nbconvert_exporter": "python",
   "pygments_lexer": "ipython3",
   "version": "3.10.13"
  }
 },
 "nbformat": 4,
 "nbformat_minor": 2
}
